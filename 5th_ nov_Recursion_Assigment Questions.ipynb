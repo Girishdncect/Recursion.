{
 "cells": [
  {
   "cell_type": "code",
   "execution_count": 1,
   "id": "ae1ab983-847c-435f-a856-37b396e6c209",
   "metadata": {},
   "outputs": [
    {
     "name": "stdout",
     "output_type": "stream",
     "text": [
      "3\n",
      "5\n"
     ]
    }
   ],
   "source": [
    "'''Q.2 Given two strings word1 and word2, return the minimum number of operations required to convert word1\n",
    "to word2.\n",
    "Example 1:\n",
    "Input: word1 = \"horse\", word2 = \"ros\"\n",
    "Output: 3\n",
    "Explanation:\n",
    "horse -> rorse (replace 'h' with 'r')\n",
    "rorse -> rose (remove 'r')\n",
    "rose -> ros (remove 'e')\n",
    "Example 2:\n",
    "Input: word1 = \"intention\", word2 = \"execution\"\n",
    "Output: 5\n",
    "Explanation:\n",
    "intention -> inention (remove 't')\n",
    "inention -> enention (replace 'i' with 'e')\n",
    "enention -> exention (replace 'n' with 'x')\n",
    "exention -> exection (replace 'n' with 'c')\n",
    "exection -> execution (insert 'u')'''\n",
    "\n",
    "\n",
    "def minDistance(word1: str, word2: str) -> int:\n",
    "    m, n = len(word1), len(word2)\n",
    "    # Create a matrix to store the minimum operations\n",
    "    dp = [[0] * (n + 1) for _ in range(m + 1)]\n",
    "\n",
    "    # Initialize the first row and column\n",
    "    for i in range(m + 1):\n",
    "        dp[i][0] = i\n",
    "    for j in range(n + 1):\n",
    "        dp[0][j] = j\n",
    "\n",
    "    # Fill the matrix using dynamic programming\n",
    "    for i in range(1, m + 1):\n",
    "        for j in range(1, n + 1):\n",
    "            if word1[i - 1] == word2[j - 1]:\n",
    "                dp[i][j] = dp[i - 1][j - 1]\n",
    "            else:\n",
    "                dp[i][j] = 1 + min(dp[i - 1][j], dp[i][j - 1], dp[i - 1][j - 1])\n",
    "\n",
    "    return dp[m][n]\n",
    "\n",
    "# Test cases\n",
    "word1_1, word2_1 = \"horse\", \"ros\"\n",
    "word1_2, word2_2 = \"intention\", \"execution\"\n",
    "\n",
    "print(minDistance(word1_1, word2_1))  # Output: 3\n",
    "print(minDistance(word1_2, word2_2))  # Output: 5\n",
    "\n",
    "\n",
    "\n"
   ]
  },
  {
   "cell_type": "code",
   "execution_count": 2,
   "id": "7bf0f53e-7a9e-47c3-9c62-8c5f9138a10d",
   "metadata": {},
   "outputs": [
    {
     "name": "stdout",
     "output_type": "stream",
     "text": [
      "22\n"
     ]
    }
   ],
   "source": [
    "'''2)arr = [13, 1, -3, 22, 5]\n",
    "max_value = max(arr)\n",
    "print(max_value)'''\n",
    "\n",
    "arr = [13, 1, -3, 22, 5]\n",
    "max_value = max(arr)\n",
    "print(max_value)\n",
    "\n",
    "\n"
   ]
  },
  {
   "cell_type": "code",
   "execution_count": 3,
   "id": "4c730668-226a-4502-8b90-947c31aea1f2",
   "metadata": {},
   "outputs": [
    {
     "name": "stdout",
     "output_type": "stream",
     "text": [
      "120\n"
     ]
    }
   ],
   "source": [
    "\"3)Q.4 Find the sum of the values of the array [92, 23, 15, -20, 10].\"\n",
    "\n",
    "arr = [92, 23, 15, -20, 10]\n",
    "sum_values = sum(arr)\n",
    "print(sum_values)\n",
    "\n"
   ]
  },
  {
   "cell_type": "code",
   "execution_count": 4,
   "id": "e63bae2d-376a-42ad-84c7-77ac95de8d00",
   "metadata": {},
   "outputs": [
    {
     "name": "stdout",
     "output_type": "stream",
     "text": [
      "Output1: Yes\n",
      "Output2: No\n"
     ]
    }
   ],
   "source": [
    "'''4)Q.5 Given a number n. Print if it is an armstrong number or not.An armstrong number is a number if the sum\n",
    "of every digit in that number raised to the power of total digits in that number is equal to the number.\n",
    "Example : 153 = 1^3 + 5^3 + 3^3 = 1 + 125 + 27 = 153 hence 153 is an armstrong number. (Easy)\n",
    "Input1 : 153\n",
    "Output1 : Yes\n",
    "Input 2 : 134\n",
    "Output2 : No'''\n",
    "\n",
    "def is_armstrong(n: int) -> bool:\n",
    "    # Convert the number to a string to count the digits\n",
    "    num_str = str(n)\n",
    "    num_digits = len(num_str)\n",
    "    \n",
    "    # Calculate the sum of digits raised to the power of num_digits\n",
    "    armstrong_sum = sum(int(digit)**num_digits for digit in num_str)\n",
    "    \n",
    "    # Check if the sum is equal to the original number\n",
    "    return armstrong_sum == n\n",
    "\n",
    "# Test cases\n",
    "input1 = 153\n",
    "input2 = 134\n",
    "\n",
    "output1 = \"Yes\" if is_armstrong(input1) else \"No\"\n",
    "output2 = \"Yes\" if is_armstrong(input2) else \"No\"\n",
    "\n",
    "print(\"Output1:\", output1)  # Output: Yes\n",
    "print(\"Output2:\", output2)  # Output: No\n"
   ]
  },
  {
   "cell_type": "code",
   "execution_count": null,
   "id": "ba20c4da-34de-4800-9b83-0e5f0f7d8628",
   "metadata": {},
   "outputs": [],
   "source": []
  }
 ],
 "metadata": {
  "kernelspec": {
   "display_name": "Python 3 (ipykernel)",
   "language": "python",
   "name": "python3"
  },
  "language_info": {
   "codemirror_mode": {
    "name": "ipython",
    "version": 3
   },
   "file_extension": ".py",
   "mimetype": "text/x-python",
   "name": "python",
   "nbconvert_exporter": "python",
   "pygments_lexer": "ipython3",
   "version": "3.10.8"
  }
 },
 "nbformat": 4,
 "nbformat_minor": 5
}
